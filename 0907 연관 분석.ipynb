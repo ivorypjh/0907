{
 "cells": [
  {
   "cell_type": "markdown",
   "id": "443fe87a",
   "metadata": {},
   "source": [
    "# Association Analysis - 연관 분석"
   ]
  },
  {
   "cell_type": "markdown",
   "id": "872dde02",
   "metadata": {},
   "source": [
    "## 공용 코드"
   ]
  },
  {
   "cell_type": "code",
   "execution_count": 1,
   "id": "ccce98d9",
   "metadata": {},
   "outputs": [],
   "source": [
    "# 파이썬\n",
    "# ≥3.5 필수\n",
    "import sys\n",
    "assert sys.version_info >= (3, 5)\n",
    "\n",
    "# 공통 모듈 임포트\n",
    "import numpy as np\n",
    "import pandas as pd\n",
    "import os\n",
    "\n",
    "# 깔끔한 그래프 출력을 위해 %matplotlib inline\n",
    "import matplotlib as mpl\n",
    "import matplotlib.pyplot as plt\n",
    "\n",
    "mpl.rc('axes', labelsize=14)\n",
    "mpl.rc('xtick', labelsize=12)\n",
    "mpl.rc('ytick', labelsize=12)\n",
    "\n",
    "\n",
    "# 그림을 저장할 위치\n",
    "PROJECT_ROOT_DIR = \".\"\n",
    "CHAPTER_ID = \"classification\"\n",
    "IMAGES_PATH = os.path.join(PROJECT_ROOT_DIR, \"images\", CHAPTER_ID)\n",
    "# 이미지를 저장할 디렉토리 생성\n",
    "os.makedirs(IMAGES_PATH, exist_ok=True)\n",
    "\n",
    "# 이미지 저장\n",
    "def save_fig(fig_id, tight_layout=True, fig_extension=\"png\", resolution=300):\n",
    "    path = os.path.join(IMAGES_PATH, fig_id + \".\" + fig_extension)\n",
    "    print(\"그림 저장:\", fig_id)\n",
    "    if tight_layout:\n",
    "        plt.tight_layout()\n",
    "    plt.savefig(path, format=fig_extension, dpi=resolution)\n",
    "\n",
    "from matplotlib import font_manager, rc\n",
    "import platform\n",
    "\n",
    "path = \"c:/Windows/Fonts/malgun.ttf\"\n",
    "if platform.system() == 'Darwin':\n",
    "    rc('font', family='AppleGothic')\n",
    "elif platform.system() == 'Windows':\n",
    "    font_name = font_manager.FontProperties(fname=path).get_name()\n",
    "    rc('font', family=font_name)\n",
    "    \n",
    "    \n",
    "mpl.rcParams['axes.unicode_minus'] = False\n",
    "# Jupyter Notebook의 출력을 소수점 이하 3자리로 제한\n",
    "%precision 3\n",
    "\n",
    "# 그래픽 출력을 좀 더 고급화하기 위한 라이브러리\n",
    "import seaborn as sns\n",
    "\n",
    "# 과학 기술 통계 라이브러리\n",
    "import scipy as sp\n",
    "from scipy import stats\n",
    "\n",
    "# 사이킷런 ≥0.20 필수\n",
    "# 0.20 이상 버전에서 데이터 변환을 위한 Transformer 클래스가 추가됨\n",
    "import sklearn\n",
    "assert sklearn.__version__ >= \"0.20\"\n",
    "\n",
    "# 노트북 실행 결과를 동일하게 유지하기 위해 시드 고정\n",
    "# 데이터를 분할할 때 동일한 분할을 만들어 냄\n",
    "np.random.seed(21)"
   ]
  },
  {
   "cell_type": "markdown",
   "id": "53539da8",
   "metadata": {},
   "source": [
    "## 동아일보의 데이터를 크롤링해서 단어 추천하기"
   ]
  },
  {
   "cell_type": "code",
   "execution_count": 18,
   "id": "f423a4b8",
   "metadata": {},
   "outputs": [],
   "source": [
    "from bs4 import BeautifulSoup\n",
    "import requests\n",
    "import urllib\n",
    "import time\n",
    "\n",
    "\n",
    "# 크롤링 할 문자열을 저장할 list\n",
    "textlist = []\n",
    "\n",
    "# 검색어 - 한글은 인코딩 필요\n",
    "search = urllib.parse.quote('추석')\n",
    "\n",
    "# 크롤링 할 URL 을 생성\n",
    "target_url = 'https://www.donga.com/news/search?query=' + search + '&sorting=1&check_news=91&search_date=1&v1=&v2=&p='\n",
    "# url 확인\n",
    "#print(url)\n",
    "# 인덱스인 p 파라미터를 활용하기 위해서 url 마지막에 'p='을 추가\n",
    "\n",
    "# 10개씩 100개의 URL 읽기 - 1페이지에 15개씩 데이터가 있음\n",
    "for n in range(1, 150, 5):\n",
    "    url = target_url + str(n)\n",
    "    try:\n",
    "        # html 읽어오기\n",
    "        response = requests.get(url)\n",
    "        # 파싱 객체 생성\n",
    "        soup = BeautifulSoup(response.text, 'html.parser')\n",
    "        # 선택자를 통해 데이터(텍스트)를 가져올 부분 지정\n",
    "        temp = soup.select('#content > div.sch_cont > div.schcont_wrap > div > div:nth-child(2) > div.rightList > span.txt > a')\n",
    "        # 텍스트 가져오기\n",
    "        for line in temp:\n",
    "            #print(line.text)\n",
    "            # 생성한 리스트에 텍스트 내용 저장\n",
    "            textlist.append(line.text)\n",
    "    except:\n",
    "        print('예외 상황 발생')\n",
    "    #print(response)\n",
    "    #print(url)\n",
    "    time.sleep(1) # 데이터를 잘 읽지 못하는 경우에 대비해서 0.5초 멈춤\n",
    "    "
   ]
  },
  {
   "cell_type": "code",
   "execution_count": 19,
   "id": "768074c8",
   "metadata": {},
   "outputs": [
    {
     "name": "stdout",
     "output_type": "stream",
     "text": [
      "['... 인기를 얻고 있는 주류다. 트랜스베버리지 관계자는 “추석 선물과 가족 모임, 여행까지 다양한 상황에서 합리적으로 즐길 수 있는 패키지 상품을 기획했다”며 “앞으로도 다양한 ...', '... 다양한 볼거리를 선보일 예정이다.10월 첫째 주의 경우 추석 연휴 및 중국 국경절 연휴 등을 고려해 서울에 방문한 국내외 관광객에게 볼거리 제공을 위해 드론 라이트 쇼가 두 번 ...', '... 있다”고 했다. 국제 유가가 급등세를 이어가면서 추석을 앞둔 국내 생활물가도 덩달아 들썩이고 있다. 중국 부동산발 위기 등으로 하반기 경기 반등 기대에 ‘빨간불’이 켜진 ...']\n"
     ]
    }
   ],
   "source": [
    "print(textlist[:3])"
   ]
  },
  {
   "cell_type": "code",
   "execution_count": 20,
   "id": "3b7a5cb4",
   "metadata": {},
   "outputs": [],
   "source": [
    "# 한글 데이터의 형태소 분석\n",
    "from konlpy.tag import Okt\n",
    "\n",
    "okt = Okt()\n",
    "\n",
    "text = ''\n",
    "# 형태소 분석에는 list 를 사용할 수 없음\n",
    "# 형태소 분석기는 하나의 문장에만 적용 가능하므로 데이터를 한 문장으로 재구성\n",
    "for line in textlist:\n",
    "    text += line + '\\n'\n",
    "\n",
    "# 형태소 분석을 진행\n",
    "ko_tokens = okt.morphs(text)\n",
    "#print(ko_tokens)"
   ]
  },
  {
   "cell_type": "code",
   "execution_count": 21,
   "id": "71d7349f",
   "metadata": {},
   "outputs": [
    {
     "name": "stdout",
     "output_type": "stream",
     "text": [
      "<Text: 추석>\n",
      "<FreqDist with 626 samples and 1322 outcomes>\n",
      "[('...', 59), ('을', 46), ('.', 41), ('추석', 30), ('\\n', 29), ('를', 17), ('했다', 16), ('이', 16), ('”', 15), ('에', 15), ('“', 14), ('으로', 13), ('한', 13), (',', 12), ('등', 12), ('는', 11), ('연휴', 11), ('전', 11), ('가', 10), ('‘', 10)]\n"
     ]
    }
   ],
   "source": [
    "# 형태소 분석 결과를 가지고 등장 횟수 확인\n",
    "import nltk\n",
    "\n",
    "ko = nltk.Text(ko_tokens, name = '추석')\n",
    "print(ko) # <Text: 추석>\n",
    "print(ko.vocab()) # 189개 samples에 대해 308개 outcomes\n",
    "print(ko.vocab().most_common(20))"
   ]
  },
  {
   "cell_type": "code",
   "execution_count": 33,
   "id": "93d5ecc3",
   "metadata": {},
   "outputs": [
    {
     "name": "stdout",
     "output_type": "stream",
     "text": [
      "<Text: 추석>\n",
      "[('추석', 30), ('연휴', 11), ('예정', 6), ('명절', 6), ('선물', 5), ('10월', 5), ('가격', 5), ('위해', 4), ('물가', 4), ('5일', 4), ('판매', 4), ('대금', 4), ('행사', 4), ('지급', 4), ('기간', 4), ('관계자', 3), ('다양한', 3), ('서울', 3), ('하반기', 3), ('협력', 3)]\n"
     ]
    }
   ],
   "source": [
    "# 형태소 분석 결과에서 불필요한 부분 제거\n",
    "\n",
    "# 불용어 처리\n",
    "stop_words = ['...', '.', '\\n', '‘', '’', '“', '”', ',', '으로', '에서',\n",
    "             '했다', '이다', '부터', '까지', '한다', '이라고', '있는', '있다']\n",
    "ko_tokens = [word for word in ko_tokens if word not in stop_words]\n",
    "# 길이가 1인 조사 등을 처리\n",
    "ko_tokens = [word for word in ko_tokens if len(word) > 1]\n",
    "\n",
    "ko = nltk.Text(ko_tokens, name = '추석')\n",
    "print(ko)\n",
    "print(ko.vocab().most_common(20))"
   ]
  },
  {
   "cell_type": "code",
   "execution_count": 34,
   "id": "f461ca52",
   "metadata": {},
   "outputs": [
    {
     "data": {
      "image/png": "[encoded data removed]",
      "text/plain": [
       "<Figure size 800x600 with 1 Axes>"
      ]
     },
     "metadata": {},
     "output_type": "display_data"
    }
   ],
   "source": [
    "# 단어 별 등장 횟수 시각화\n",
    "\n",
    "# 상위 30개 단어에 대해 등장 횟수 출력\n",
    "plt.figure(figsize = (8, 6))\n",
    "ko.plot(30)\n",
    "plt.show()"
   ]
  },
  {
   "cell_type": "code",
   "execution_count": 36,
   "id": "88d600f0",
   "metadata": {},
   "outputs": [],
   "source": [
    "# 워드 클라우드 생성\n",
    "\n",
    "import pytagcloud\n",
    "\n",
    "# 자주 등장하는 단어 추출 \n",
    "data = ko.vocab().most_common(100)\n",
    "# 단어와 등장 횟수를 가지고 크기와 색상을 결정\n",
    "taglist = pytagcloud.make_tags(data, maxsize = 300)\n",
    "#print(taglist)\n",
    "\n",
    "# 클라우드 생성\n",
    "pytagcloud.create_tag_image(taglist, 'wordcloud_추석.png', size = (800, 600),\n",
    "                           fontname = 'HakgyoansimBombanghakR', rectangular = False)"
   ]
  },
  {
   "cell_type": "code",
   "execution_count": 39,
   "id": "3e8397d1",
   "metadata": {},
   "outputs": [],
   "source": [
    "# 연관 단어 추출\n",
    "\n",
    "#!pip install gensim\n",
    "from gensim.models import word2vec\n",
    "\n",
    "lines = text\n",
    "okt = Okt()\n",
    "result = []\n",
    "\n",
    "for line in lines:\n",
    "    # 품사를 가져와서 조사, 어미, 구두점을 제고\n",
    "    malist = okt.pos(line, norm = True, stem = True)\n",
    "    r = []\n",
    "    \n",
    "    for word in malist:\n",
    "        if not word[1] in ['Josa', 'Eomi', 'Punctuation']:\n",
    "            r.append(word[0])\n",
    "    \n",
    "    r1 = (\" \".join(r)).strip()\n",
    "    result.append(r1)\n",
    "    \n",
    "    #print(r1)\n",
    "        "
   ]
  },
  {
   "cell_type": "code",
   "execution_count": 41,
   "id": "d3cc91dc",
   "metadata": {},
   "outputs": [],
   "source": [
    "# 형태소를 분석한 문장들을 파일에 저장한 후 Word2Vector 모델 생성\n",
    "\n",
    "data_file = '추석.data'\n",
    "\n",
    "with open(data_file, 'w', encoding = 'utf-8') as f:\n",
    "    f.write('\\n'.join(result))\n",
    "    data = word2vec.LineSentence(data_file)\n",
    "    \n",
    "model = word2vec.Word2Vec(data, vector_size = 200, window = 10, \n",
    "                         hs = 1, min_count = 2, sg = 1)\n",
    "\n",
    "# 모델을 저장\n",
    "model.save('추석.model')\n",
    "# 모델 불러오기\n",
    "model = word2vec.Word2Vec.load('추석.model')"
   ]
  },
  {
   "cell_type": "code",
   "execution_count": 51,
   "id": "0430984b",
   "metadata": {},
   "outputs": [
    {
     "data": {
      "text/plain": [
       "[('드', 0.235),\n",
       " ('유', 0.163),\n",
       " ('목', 0.133),\n",
       " ('상', 0.132),\n",
       " ('혜', 0.127),\n",
       " ('선', 0.119),\n",
       " ('예', 0.116),\n",
       " ('매', 0.114),\n",
       " ('획', 0.113),\n",
       " ('로', 0.113)]"
      ]
     },
     "execution_count": 51,
     "metadata": {},
     "output_type": "execute_result"
    }
   ],
   "source": [
    "# 연관된 단어 추출\n",
    "#'서다' 와 연관관계가 긍정적으로 높은 10개 단어 추출\n",
    "# 반대로 negative 로 설정할 수도 있음\n",
    "model.wv.most_similar(positive = ['서다'])"
   ]
  },
  {
   "cell_type": "markdown",
   "id": "8436c7ac",
   "metadata": {},
   "source": [
    "## tweet_temp.csv 파일의 내용을 가지고 손흥민 연관 규칙 분석"
   ]
  },
  {
   "cell_type": "code",
   "execution_count": 52,
   "id": "f2873d7b",
   "metadata": {},
   "outputs": [
    {
     "data": {
      "text/html": [
       "<div>\n",
       "<style scoped>\n",
       "    .dataframe tbody tr th:only-of-type {\n",
       "        vertical-align: middle;\n",
       "    }\n",
       "\n",
       "    .dataframe tbody tr th {\n",
       "        vertical-align: top;\n",
       "    }\n",
       "\n",
       "    .dataframe thead th {\n",
       "        text-align: right;\n",
       "    }\n",
       "</style>\n",
       "<table border=\"1\" class=\"dataframe\">\n",
       "  <thead>\n",
       "    <tr style=\"text-align: right;\">\n",
       "      <th></th>\n",
       "      <th>created</th>\n",
       "      <th>tweet_text</th>\n",
       "    </tr>\n",
       "  </thead>\n",
       "  <tbody>\n",
       "    <tr>\n",
       "      <th>0</th>\n",
       "      <td>2019-04-01 10:55:00</td>\n",
       "      <td>Legends At New Spurs Stadium\\nTottenham Hotspu...</td>\n",
       "    </tr>\n",
       "    <tr>\n",
       "      <th>1</th>\n",
       "      <td>2019-04-01 10:52:30</td>\n",
       "      <td>RT @PerSON7a: TS트릴리온, 축구국가대표 손흥민 선수 TS샴푸 모델로 기...</td>\n",
       "    </tr>\n",
       "    <tr>\n",
       "      <th>2</th>\n",
       "      <td>2019-04-01 10:49:33</td>\n",
       "      <td>RT @SON78PAY019: 손흥민이 이쁘지~ 깐 밤같애~\\n\\nㅋㅋㅋㅋㅋㅋㅋㅋㅋ...</td>\n",
       "    </tr>\n",
       "    <tr>\n",
       "      <th>3</th>\n",
       "      <td>2019-04-01 10:49:03</td>\n",
       "      <td>귀여워💜 #손흥민 https://t.co/hstR1vALAf</td>\n",
       "    </tr>\n",
       "    <tr>\n",
       "      <th>4</th>\n",
       "      <td>2019-04-01 10:45:26</td>\n",
       "      <td>RT @mediatodaynews: 경남도민일보 “(프로축구연맹은) 경기장 안에서 ...</td>\n",
       "    </tr>\n",
       "  </tbody>\n",
       "</table>\n",
       "</div>"
      ],
      "text/plain": [
       "               created                                         tweet_text\n",
       "0  2019-04-01 10:55:00  Legends At New Spurs Stadium\\nTottenham Hotspu...\n",
       "1  2019-04-01 10:52:30  RT @PerSON7a: TS트릴리온, 축구국가대표 손흥민 선수 TS샴푸 모델로 기...\n",
       "2  2019-04-01 10:49:33  RT @SON78PAY019: 손흥민이 이쁘지~ 깐 밤같애~\\n\\nㅋㅋㅋㅋㅋㅋㅋㅋㅋ...\n",
       "3  2019-04-01 10:49:03                  귀여워💜 #손흥민 https://t.co/hstR1vALAf\n",
       "4  2019-04-01 10:45:26  RT @mediatodaynews: 경남도민일보 “(프로축구연맹은) 경기장 안에서 ..."
      ]
     },
     "execution_count": 52,
     "metadata": {},
     "output_type": "execute_result"
    }
   ],
   "source": [
    "# 데이터 가져오기\n",
    "df = pd.read_csv('./data/tweet_temp.csv')\n",
    "df.head()"
   ]
  },
  {
   "cell_type": "code",
   "execution_count": 54,
   "id": "418298ba",
   "metadata": {},
   "outputs": [
    {
     "data": {
      "text/html": [
       "<div>\n",
       "<style scoped>\n",
       "    .dataframe tbody tr th:only-of-type {\n",
       "        vertical-align: middle;\n",
       "    }\n",
       "\n",
       "    .dataframe tbody tr th {\n",
       "        vertical-align: top;\n",
       "    }\n",
       "\n",
       "    .dataframe thead th {\n",
       "        text-align: right;\n",
       "    }\n",
       "</style>\n",
       "<table border=\"1\" class=\"dataframe\">\n",
       "  <thead>\n",
       "    <tr style=\"text-align: right;\">\n",
       "      <th></th>\n",
       "      <th>created</th>\n",
       "      <th>tweet_text</th>\n",
       "      <th>ko_text</th>\n",
       "    </tr>\n",
       "  </thead>\n",
       "  <tbody>\n",
       "    <tr>\n",
       "      <th>0</th>\n",
       "      <td>2019-04-01 10:55:00</td>\n",
       "      <td>Legends At New Spurs Stadium\\nTottenham Hotspu...</td>\n",
       "      <td></td>\n",
       "    </tr>\n",
       "    <tr>\n",
       "      <th>1</th>\n",
       "      <td>2019-04-01 10:52:30</td>\n",
       "      <td>RT @PerSON7a: TS트릴리온, 축구국가대표 손흥민 선수 TS샴푸 모델로 기...</td>\n",
       "      <td>트릴리온 축구국가대표 손흥민 선수 샴푸 모델로 기용 출처  한국경제  네이버 뉴스</td>\n",
       "    </tr>\n",
       "    <tr>\n",
       "      <th>2</th>\n",
       "      <td>2019-04-01 10:49:33</td>\n",
       "      <td>RT @SON78PAY019: 손흥민이 이쁘지~ 깐 밤같애~\\n\\nㅋㅋㅋㅋㅋㅋㅋㅋㅋ...</td>\n",
       "      <td>손흥민이 이쁘지 깐 밤같애ㅋㅋㅋㅋㅋㅋㅋㅋㅋㅋㅋㅋㅋㅋㅋㅋㅋㅋㅋㅋㅋㅋㅋㅋㅋㅋㅋㅋ뭐 ...</td>\n",
       "    </tr>\n",
       "    <tr>\n",
       "      <th>3</th>\n",
       "      <td>2019-04-01 10:49:03</td>\n",
       "      <td>귀여워💜 #손흥민 https://t.co/hstR1vALAf</td>\n",
       "      <td>귀여워 손흥민</td>\n",
       "    </tr>\n",
       "    <tr>\n",
       "      <th>4</th>\n",
       "      <td>2019-04-01 10:45:26</td>\n",
       "      <td>RT @mediatodaynews: 경남도민일보 “(프로축구연맹은) 경기장 안에서 ...</td>\n",
       "      <td>경남도민일보 프로축구연맹은 경기장 안에서 선거운동을 하는 것은 손흥민에게 영국 ...</td>\n",
       "    </tr>\n",
       "  </tbody>\n",
       "</table>\n",
       "</div>"
      ],
      "text/plain": [
       "               created                                         tweet_text  \\\n",
       "0  2019-04-01 10:55:00  Legends At New Spurs Stadium\\nTottenham Hotspu...   \n",
       "1  2019-04-01 10:52:30  RT @PerSON7a: TS트릴리온, 축구국가대표 손흥민 선수 TS샴푸 모델로 기...   \n",
       "2  2019-04-01 10:49:33  RT @SON78PAY019: 손흥민이 이쁘지~ 깐 밤같애~\\n\\nㅋㅋㅋㅋㅋㅋㅋㅋㅋ...   \n",
       "3  2019-04-01 10:49:03                  귀여워💜 #손흥민 https://t.co/hstR1vALAf   \n",
       "4  2019-04-01 10:45:26  RT @mediatodaynews: 경남도민일보 “(프로축구연맹은) 경기장 안에서 ...   \n",
       "\n",
       "                                             ko_text  \n",
       "0                                                     \n",
       "1    트릴리온 축구국가대표 손흥민 선수 샴푸 모델로 기용 출처  한국경제  네이버 뉴스    \n",
       "2    손흥민이 이쁘지 깐 밤같애ㅋㅋㅋㅋㅋㅋㅋㅋㅋㅋㅋㅋㅋㅋㅋㅋㅋㅋㅋㅋㅋㅋㅋㅋㅋㅋㅋㅋ뭐 ...  \n",
       "3                                           귀여워 손흥민   \n",
       "4    경남도민일보 프로축구연맹은 경기장 안에서 선거운동을 하는 것은 손흥민에게 영국 ...  "
      ]
     },
     "execution_count": 54,
     "metadata": {},
     "output_type": "execute_result"
    }
   ],
   "source": [
    "# 데이터에서 한글만 추출\n",
    "import re\n",
    "\n",
    "def text_cleaning(text):\n",
    "    # 한글의 정규 표현식\n",
    "    hangle = re.compile('[^ ㄱ-ㅣ 가-힣]+')\n",
    "    # 한글이 아닌 것은 전부 '' 로 치환 - 삭제\n",
    "    result = hangle.sub('', text)\n",
    "    \n",
    "    return result\n",
    "\n",
    "df['ko_text'] = df['tweet_text'].apply(lambda x : text_cleaning(x))\n",
    "df.head()"
   ]
  },
  {
   "cell_type": "code",
   "execution_count": 57,
   "id": "8bd4a727",
   "metadata": {},
   "outputs": [
    {
     "data": {
      "text/html": [
       "<div>\n",
       "<style scoped>\n",
       "    .dataframe tbody tr th:only-of-type {\n",
       "        vertical-align: middle;\n",
       "    }\n",
       "\n",
       "    .dataframe tbody tr th {\n",
       "        vertical-align: top;\n",
       "    }\n",
       "\n",
       "    .dataframe thead th {\n",
       "        text-align: right;\n",
       "    }\n",
       "</style>\n",
       "<table border=\"1\" class=\"dataframe\">\n",
       "  <thead>\n",
       "    <tr style=\"text-align: right;\">\n",
       "      <th></th>\n",
       "      <th>created</th>\n",
       "      <th>tweet_text</th>\n",
       "      <th>ko_text</th>\n",
       "      <th>nouns</th>\n",
       "    </tr>\n",
       "  </thead>\n",
       "  <tbody>\n",
       "    <tr>\n",
       "      <th>0</th>\n",
       "      <td>2019-04-01 10:55:00</td>\n",
       "      <td>Legends At New Spurs Stadium\\nTottenham Hotspu...</td>\n",
       "      <td></td>\n",
       "      <td>[]</td>\n",
       "    </tr>\n",
       "    <tr>\n",
       "      <th>1</th>\n",
       "      <td>2019-04-01 10:52:30</td>\n",
       "      <td>RT @PerSON7a: TS트릴리온, 축구국가대표 손흥민 선수 TS샴푸 모델로 기...</td>\n",
       "      <td>트릴리온 축구국가대표 손흥민 선수 샴푸 모델로 기용 출처  한국경제  네이버 뉴스</td>\n",
       "      <td>[트릴, 리온, 축구, 국가대표, 손흥민, 선수, 샴푸, 모델, 기용, 출처, 한국...</td>\n",
       "    </tr>\n",
       "    <tr>\n",
       "      <th>2</th>\n",
       "      <td>2019-04-01 10:49:33</td>\n",
       "      <td>RT @SON78PAY019: 손흥민이 이쁘지~ 깐 밤같애~\\n\\nㅋㅋㅋㅋㅋㅋㅋㅋㅋ...</td>\n",
       "      <td>손흥민이 이쁘지 깐 밤같애ㅋㅋㅋㅋㅋㅋㅋㅋㅋㅋㅋㅋㅋㅋㅋㅋㅋㅋㅋㅋㅋㅋㅋㅋㅋㅋㅋㅋ뭐 ...</td>\n",
       "      <td>[손흥민, 말씀]</td>\n",
       "    </tr>\n",
       "    <tr>\n",
       "      <th>3</th>\n",
       "      <td>2019-04-01 10:49:03</td>\n",
       "      <td>귀여워💜 #손흥민 https://t.co/hstR1vALAf</td>\n",
       "      <td>귀여워 손흥민</td>\n",
       "      <td>[손흥민]</td>\n",
       "    </tr>\n",
       "    <tr>\n",
       "      <th>4</th>\n",
       "      <td>2019-04-01 10:45:26</td>\n",
       "      <td>RT @mediatodaynews: 경남도민일보 “(프로축구연맹은) 경기장 안에서 ...</td>\n",
       "      <td>경남도민일보 프로축구연맹은 경기장 안에서 선거운동을 하는 것은 손흥민에게 영국 ...</td>\n",
       "      <td>[경남, 도민, 일보, 프로축구, 연맹, 경기장, 선거운동, 손흥민, 영국, 관중,...</td>\n",
       "    </tr>\n",
       "  </tbody>\n",
       "</table>\n",
       "</div>"
      ],
      "text/plain": [
       "               created                                         tweet_text  \\\n",
       "0  2019-04-01 10:55:00  Legends At New Spurs Stadium\\nTottenham Hotspu...   \n",
       "1  2019-04-01 10:52:30  RT @PerSON7a: TS트릴리온, 축구국가대표 손흥민 선수 TS샴푸 모델로 기...   \n",
       "2  2019-04-01 10:49:33  RT @SON78PAY019: 손흥민이 이쁘지~ 깐 밤같애~\\n\\nㅋㅋㅋㅋㅋㅋㅋㅋㅋ...   \n",
       "3  2019-04-01 10:49:03                  귀여워💜 #손흥민 https://t.co/hstR1vALAf   \n",
       "4  2019-04-01 10:45:26  RT @mediatodaynews: 경남도민일보 “(프로축구연맹은) 경기장 안에서 ...   \n",
       "\n",
       "                                             ko_text  \\\n",
       "0                                                      \n",
       "1    트릴리온 축구국가대표 손흥민 선수 샴푸 모델로 기용 출처  한국경제  네이버 뉴스     \n",
       "2    손흥민이 이쁘지 깐 밤같애ㅋㅋㅋㅋㅋㅋㅋㅋㅋㅋㅋㅋㅋㅋㅋㅋㅋㅋㅋㅋㅋㅋㅋㅋㅋㅋㅋㅋ뭐 ...   \n",
       "3                                           귀여워 손흥민    \n",
       "4    경남도민일보 프로축구연맹은 경기장 안에서 선거운동을 하는 것은 손흥민에게 영국 ...   \n",
       "\n",
       "                                               nouns  \n",
       "0                                                 []  \n",
       "1  [트릴, 리온, 축구, 국가대표, 손흥민, 선수, 샴푸, 모델, 기용, 출처, 한국...  \n",
       "2                                          [손흥민, 말씀]  \n",
       "3                                              [손흥민]  \n",
       "4  [경남, 도민, 일보, 프로축구, 연맹, 경기장, 선거운동, 손흥민, 영국, 관중,...  "
      ]
     },
     "execution_count": 57,
     "metadata": {},
     "output_type": "execute_result"
    }
   ],
   "source": [
    "# 형태소 분석\n",
    "from konlpy.tag import Okt\n",
    "from collections import Counter\n",
    "\n",
    "# 한국어 불용어 사전\n",
    "# https://www.ranks.nl/stopwords/korean url 참고\n",
    "korean_stop_words_path = './data/ko_stop_words.txt'\n",
    "with open(korean_stop_words_path, encoding = 'utf-8') as f:\n",
    "    stopwords = f.readlines()\n",
    "stopwords = [x.strip() for x in stopwords]\n",
    "#print(stopwords[:10])\n",
    "\n",
    "# 형태소에서 불용어 제거\n",
    "def get_nouns(x):\n",
    "    nouns_tagger = Okt()\n",
    "    nouns = nouns_tagger.nouns(x)\n",
    "    \n",
    "    nouns = [noun for noun in nouns if len(noun) > 1]\n",
    "    nouns = [noun for noun in nouns if noun not in stopwords]\n",
    "    \n",
    "    return nouns\n",
    "\n",
    "# 데이터에 적용\n",
    "df['nouns'] = df['ko_text'].apply(lambda x : get_nouns(x))\n",
    "df.head()\n"
   ]
  },
  {
   "cell_type": "markdown",
   "id": "8ef3eb3f",
   "metadata": {},
   "source": [
    "### 연관 규칙 분석 API 적용"
   ]
  },
  {
   "cell_type": "code",
   "execution_count": 58,
   "id": "26428250",
   "metadata": {},
   "outputs": [
    {
     "name": "stdout",
     "output_type": "stream",
     "text": [
      "Collecting apyori\n",
      "  Downloading apyori-1.1.2.tar.gz (8.6 kB)\n",
      "  Preparing metadata (setup.py): started\n",
      "  Preparing metadata (setup.py): finished with status 'done'\n",
      "Building wheels for collected packages: apyori\n",
      "  Building wheel for apyori (setup.py): started\n",
      "  Building wheel for apyori (setup.py): finished with status 'done'\n",
      "  Created wheel for apyori: filename=apyori-1.1.2-py3-none-any.whl size=5975 sha256=0490f0611f36696191112fe44d620e4ef935d3cc0e3b50363089b2cc4a3ea67a\n",
      "  Stored in directory: c:\\users\\user\\appdata\\local\\pip\\cache\\wheels\\84\\45\\a4\\8ade6576f75410d8162c6da1de0aa9df56c16c711acab5a813\n",
      "Successfully built apyori\n",
      "Installing collected packages: apyori\n",
      "Successfully installed apyori-1.1.2\n"
     ]
    }
   ],
   "source": [
    "!pip install apyori"
   ]
  },
  {
   "cell_type": "code",
   "execution_count": 59,
   "id": "e563c148",
   "metadata": {},
   "outputs": [
    {
     "name": "stdout",
     "output_type": "stream",
     "text": [
      "RelationRecord(items=frozenset({'손흥민'}), support=1.0, ordered_statistics=[OrderedStatistic(items_base=frozenset(), items_add=frozenset({'손흥민'}), confidence=1.0, lift=1.0)])\n",
      "RelationRecord(items=frozenset({'시소코'}), support=0.3333333333333333, ordered_statistics=[OrderedStatistic(items_base=frozenset(), items_add=frozenset({'시소코'}), confidence=0.3333333333333333, lift=1.0)])\n",
      "RelationRecord(items=frozenset({'케인'}), support=0.6666666666666666, ordered_statistics=[OrderedStatistic(items_base=frozenset(), items_add=frozenset({'케인'}), confidence=0.6666666666666666, lift=1.0)])\n",
      "RelationRecord(items=frozenset({'포체티노'}), support=0.3333333333333333, ordered_statistics=[OrderedStatistic(items_base=frozenset(), items_add=frozenset({'포체티노'}), confidence=0.3333333333333333, lift=1.0)])\n",
      "RelationRecord(items=frozenset({'손흥민', '시소코'}), support=0.3333333333333333, ordered_statistics=[OrderedStatistic(items_base=frozenset(), items_add=frozenset({'손흥민', '시소코'}), confidence=0.3333333333333333, lift=1.0), OrderedStatistic(items_base=frozenset({'손흥민'}), items_add=frozenset({'시소코'}), confidence=0.3333333333333333, lift=1.0), OrderedStatistic(items_base=frozenset({'시소코'}), items_add=frozenset({'손흥민'}), confidence=1.0, lift=1.0)])\n",
      "RelationRecord(items=frozenset({'손흥민', '케인'}), support=0.6666666666666666, ordered_statistics=[OrderedStatistic(items_base=frozenset(), items_add=frozenset({'손흥민', '케인'}), confidence=0.6666666666666666, lift=1.0), OrderedStatistic(items_base=frozenset({'손흥민'}), items_add=frozenset({'케인'}), confidence=0.6666666666666666, lift=1.0), OrderedStatistic(items_base=frozenset({'케인'}), items_add=frozenset({'손흥민'}), confidence=1.0, lift=1.0)])\n",
      "RelationRecord(items=frozenset({'손흥민', '포체티노'}), support=0.3333333333333333, ordered_statistics=[OrderedStatistic(items_base=frozenset(), items_add=frozenset({'손흥민', '포체티노'}), confidence=0.3333333333333333, lift=1.0), OrderedStatistic(items_base=frozenset({'손흥민'}), items_add=frozenset({'포체티노'}), confidence=0.3333333333333333, lift=1.0), OrderedStatistic(items_base=frozenset({'포체티노'}), items_add=frozenset({'손흥민'}), confidence=1.0, lift=1.0)])\n",
      "RelationRecord(items=frozenset({'포체티노', '케인'}), support=0.3333333333333333, ordered_statistics=[OrderedStatistic(items_base=frozenset(), items_add=frozenset({'포체티노', '케인'}), confidence=0.3333333333333333, lift=1.0), OrderedStatistic(items_base=frozenset({'케인'}), items_add=frozenset({'포체티노'}), confidence=0.5, lift=1.5), OrderedStatistic(items_base=frozenset({'포체티노'}), items_add=frozenset({'케인'}), confidence=1.0, lift=1.5)])\n",
      "RelationRecord(items=frozenset({'손흥민', '포체티노', '케인'}), support=0.3333333333333333, ordered_statistics=[OrderedStatistic(items_base=frozenset(), items_add=frozenset({'손흥민', '포체티노', '케인'}), confidence=0.3333333333333333, lift=1.0), OrderedStatistic(items_base=frozenset({'손흥민'}), items_add=frozenset({'포체티노', '케인'}), confidence=0.3333333333333333, lift=1.0), OrderedStatistic(items_base=frozenset({'케인'}), items_add=frozenset({'손흥민', '포체티노'}), confidence=0.5, lift=1.5), OrderedStatistic(items_base=frozenset({'포체티노'}), items_add=frozenset({'손흥민', '케인'}), confidence=1.0, lift=1.5), OrderedStatistic(items_base=frozenset({'손흥민', '케인'}), items_add=frozenset({'포체티노'}), confidence=0.5, lift=1.5), OrderedStatistic(items_base=frozenset({'손흥민', '포체티노'}), items_add=frozenset({'케인'}), confidence=1.0, lift=1.5), OrderedStatistic(items_base=frozenset({'포체티노', '케인'}), items_add=frozenset({'손흥민'}), confidence=1.0, lift=1.0)])\n"
     ]
    }
   ],
   "source": [
    "# 거래 생성\n",
    "# 찾고자 하는 관계 작성\n",
    "transactions = [['손흥민', '케인'], ['손흥민', '시소코'],\n",
    "               ['손흥민', '포체티노', '케인']]\n",
    "\n",
    "from apyori import apriori\n",
    "\n",
    "# 별다른 옵션 없이 연관 규칙 분석을 수행\n",
    "results = list(apriori(transactions))\n",
    "\n",
    "for result in results:\n",
    "    print(result)"
   ]
  },
  {
   "cell_type": "code",
   "execution_count": 60,
   "id": "13cd3ba3",
   "metadata": {},
   "outputs": [
    {
     "name": "stdout",
     "output_type": "stream",
     "text": [
      "RelationRecord(items=frozenset({'손흥민'}), support=1.0, ordered_statistics=[OrderedStatistic(items_base=frozenset(), items_add=frozenset({'손흥민'}), confidence=1.0, lift=1.0)])\n",
      "RelationRecord(items=frozenset({'케인'}), support=0.6666666666666666, ordered_statistics=[OrderedStatistic(items_base=frozenset(), items_add=frozenset({'케인'}), confidence=0.6666666666666666, lift=1.0)])\n",
      "RelationRecord(items=frozenset({'손흥민', '케인'}), support=0.6666666666666666, ordered_statistics=[OrderedStatistic(items_base=frozenset(), items_add=frozenset({'손흥민', '케인'}), confidence=0.6666666666666666, lift=1.0), OrderedStatistic(items_base=frozenset({'손흥민'}), items_add=frozenset({'케인'}), confidence=0.6666666666666666, lift=1.0), OrderedStatistic(items_base=frozenset({'케인'}), items_add=frozenset({'손흥민'}), confidence=1.0, lift=1.0)])\n"
     ]
    }
   ],
   "source": [
    "# 지지도 0.5 이상, 향상도 1.0 이상, 신뢰도 0.6 이상인 거래만 확인\n",
    "results = list(apriori(transactions, min_support = 0.5,\n",
    "                      min_lift = 1.0, min_confidence = 0.6, max_length = 2))\n",
    "for result in results:\n",
    "    print(result)"
   ]
  },
  {
   "cell_type": "code",
   "execution_count": 63,
   "id": "2326dfb2",
   "metadata": {},
   "outputs": [],
   "source": [
    "# 데이터 프레임의 데이터를 리스트로 전환\n",
    "\n",
    "transactions = df['nouns'].tolist()\n",
    "# 데이터가 있는 경우만 가져옴\n",
    "transactions = [transaction for transaction in transactions if transaction]\n",
    "\n",
    "results = list(apriori(transactions, min_support = 0.1,\n",
    "                      min_lift = 5.0, min_confidence = 0.2, max_length = 2))\n",
    "for result in results:\n",
    "    #print(result)\n",
    "    pass"
   ]
  },
  {
   "cell_type": "code",
   "execution_count": 69,
   "id": "ee68803d",
   "metadata": {
    "scrolled": true
   },
   "outputs": [
    {
     "name": "stderr",
     "output_type": "stream",
     "text": [
      "C:\\Users\\USER\\AppData\\Local\\Temp\\ipykernel_6156\\3567116083.py:14: FutureWarning: The frame.append method is deprecated and will be removed from pandas in a future version. Use pandas.concat instead.\n",
      "  network_df = network_df.append(series, ignore_index = True)\n",
      "C:\\Users\\USER\\AppData\\Local\\Temp\\ipykernel_6156\\3567116083.py:14: FutureWarning: The frame.append method is deprecated and will be removed from pandas in a future version. Use pandas.concat instead.\n",
      "  network_df = network_df.append(series, ignore_index = True)\n",
      "C:\\Users\\USER\\AppData\\Local\\Temp\\ipykernel_6156\\3567116083.py:14: FutureWarning: The frame.append method is deprecated and will be removed from pandas in a future version. Use pandas.concat instead.\n",
      "  network_df = network_df.append(series, ignore_index = True)\n",
      "C:\\Users\\USER\\AppData\\Local\\Temp\\ipykernel_6156\\3567116083.py:14: FutureWarning: The frame.append method is deprecated and will be removed from pandas in a future version. Use pandas.concat instead.\n",
      "  network_df = network_df.append(series, ignore_index = True)\n",
      "C:\\Users\\USER\\AppData\\Local\\Temp\\ipykernel_6156\\3567116083.py:14: FutureWarning: The frame.append method is deprecated and will be removed from pandas in a future version. Use pandas.concat instead.\n",
      "  network_df = network_df.append(series, ignore_index = True)\n",
      "C:\\Users\\USER\\AppData\\Local\\Temp\\ipykernel_6156\\3567116083.py:14: FutureWarning: The frame.append method is deprecated and will be removed from pandas in a future version. Use pandas.concat instead.\n",
      "  network_df = network_df.append(series, ignore_index = True)\n",
      "C:\\Users\\USER\\AppData\\Local\\Temp\\ipykernel_6156\\3567116083.py:14: FutureWarning: The frame.append method is deprecated and will be removed from pandas in a future version. Use pandas.concat instead.\n",
      "  network_df = network_df.append(series, ignore_index = True)\n",
      "C:\\Users\\USER\\AppData\\Local\\Temp\\ipykernel_6156\\3567116083.py:14: FutureWarning: The frame.append method is deprecated and will be removed from pandas in a future version. Use pandas.concat instead.\n",
      "  network_df = network_df.append(series, ignore_index = True)\n",
      "C:\\Users\\USER\\AppData\\Local\\Temp\\ipykernel_6156\\3567116083.py:14: FutureWarning: The frame.append method is deprecated and will be removed from pandas in a future version. Use pandas.concat instead.\n",
      "  network_df = network_df.append(series, ignore_index = True)\n",
      "C:\\Users\\USER\\AppData\\Local\\Temp\\ipykernel_6156\\3567116083.py:14: FutureWarning: The frame.append method is deprecated and will be removed from pandas in a future version. Use pandas.concat instead.\n",
      "  network_df = network_df.append(series, ignore_index = True)\n",
      "C:\\Users\\USER\\AppData\\Local\\Temp\\ipykernel_6156\\3567116083.py:14: FutureWarning: The frame.append method is deprecated and will be removed from pandas in a future version. Use pandas.concat instead.\n",
      "  network_df = network_df.append(series, ignore_index = True)\n",
      "C:\\Users\\USER\\AppData\\Local\\Temp\\ipykernel_6156\\3567116083.py:14: FutureWarning: The frame.append method is deprecated and will be removed from pandas in a future version. Use pandas.concat instead.\n",
      "  network_df = network_df.append(series, ignore_index = True)\n",
      "C:\\Users\\USER\\AppData\\Local\\Temp\\ipykernel_6156\\3567116083.py:14: FutureWarning: The frame.append method is deprecated and will be removed from pandas in a future version. Use pandas.concat instead.\n",
      "  network_df = network_df.append(series, ignore_index = True)\n",
      "C:\\Users\\USER\\AppData\\Local\\Temp\\ipykernel_6156\\3567116083.py:14: FutureWarning: The frame.append method is deprecated and will be removed from pandas in a future version. Use pandas.concat instead.\n",
      "  network_df = network_df.append(series, ignore_index = True)\n",
      "C:\\Users\\USER\\AppData\\Local\\Temp\\ipykernel_6156\\3567116083.py:14: FutureWarning: The frame.append method is deprecated and will be removed from pandas in a future version. Use pandas.concat instead.\n",
      "  network_df = network_df.append(series, ignore_index = True)\n",
      "C:\\Users\\USER\\AppData\\Local\\Temp\\ipykernel_6156\\3567116083.py:14: FutureWarning: The frame.append method is deprecated and will be removed from pandas in a future version. Use pandas.concat instead.\n",
      "  network_df = network_df.append(series, ignore_index = True)\n",
      "C:\\Users\\USER\\AppData\\Local\\Temp\\ipykernel_6156\\3567116083.py:14: FutureWarning: The frame.append method is deprecated and will be removed from pandas in a future version. Use pandas.concat instead.\n",
      "  network_df = network_df.append(series, ignore_index = True)\n",
      "C:\\Users\\USER\\AppData\\Local\\Temp\\ipykernel_6156\\3567116083.py:14: FutureWarning: The frame.append method is deprecated and will be removed from pandas in a future version. Use pandas.concat instead.\n",
      "  network_df = network_df.append(series, ignore_index = True)\n",
      "C:\\Users\\USER\\AppData\\Local\\Temp\\ipykernel_6156\\3567116083.py:14: FutureWarning: The frame.append method is deprecated and will be removed from pandas in a future version. Use pandas.concat instead.\n",
      "  network_df = network_df.append(series, ignore_index = True)\n",
      "C:\\Users\\USER\\AppData\\Local\\Temp\\ipykernel_6156\\3567116083.py:14: FutureWarning: The frame.append method is deprecated and will be removed from pandas in a future version. Use pandas.concat instead.\n",
      "  network_df = network_df.append(series, ignore_index = True)\n",
      "C:\\Users\\USER\\AppData\\Local\\Temp\\ipykernel_6156\\3567116083.py:14: FutureWarning: The frame.append method is deprecated and will be removed from pandas in a future version. Use pandas.concat instead.\n",
      "  network_df = network_df.append(series, ignore_index = True)\n",
      "C:\\Users\\USER\\AppData\\Local\\Temp\\ipykernel_6156\\3567116083.py:14: FutureWarning: The frame.append method is deprecated and will be removed from pandas in a future version. Use pandas.concat instead.\n",
      "  network_df = network_df.append(series, ignore_index = True)\n",
      "C:\\Users\\USER\\AppData\\Local\\Temp\\ipykernel_6156\\3567116083.py:14: FutureWarning: The frame.append method is deprecated and will be removed from pandas in a future version. Use pandas.concat instead.\n",
      "  network_df = network_df.append(series, ignore_index = True)\n",
      "C:\\Users\\USER\\AppData\\Local\\Temp\\ipykernel_6156\\3567116083.py:14: FutureWarning: The frame.append method is deprecated and will be removed from pandas in a future version. Use pandas.concat instead.\n",
      "  network_df = network_df.append(series, ignore_index = True)\n",
      "C:\\Users\\USER\\AppData\\Local\\Temp\\ipykernel_6156\\3567116083.py:14: FutureWarning: The frame.append method is deprecated and will be removed from pandas in a future version. Use pandas.concat instead.\n",
      "  network_df = network_df.append(series, ignore_index = True)\n",
      "C:\\Users\\USER\\AppData\\Local\\Temp\\ipykernel_6156\\3567116083.py:14: FutureWarning: The frame.append method is deprecated and will be removed from pandas in a future version. Use pandas.concat instead.\n",
      "  network_df = network_df.append(series, ignore_index = True)\n",
      "C:\\Users\\USER\\AppData\\Local\\Temp\\ipykernel_6156\\3567116083.py:14: FutureWarning: The frame.append method is deprecated and will be removed from pandas in a future version. Use pandas.concat instead.\n",
      "  network_df = network_df.append(series, ignore_index = True)\n",
      "C:\\Users\\USER\\AppData\\Local\\Temp\\ipykernel_6156\\3567116083.py:14: FutureWarning: The frame.append method is deprecated and will be removed from pandas in a future version. Use pandas.concat instead.\n",
      "  network_df = network_df.append(series, ignore_index = True)\n",
      "C:\\Users\\USER\\AppData\\Local\\Temp\\ipykernel_6156\\3567116083.py:14: FutureWarning: The frame.append method is deprecated and will be removed from pandas in a future version. Use pandas.concat instead.\n",
      "  network_df = network_df.append(series, ignore_index = True)\n",
      "C:\\Users\\USER\\AppData\\Local\\Temp\\ipykernel_6156\\3567116083.py:14: FutureWarning: The frame.append method is deprecated and will be removed from pandas in a future version. Use pandas.concat instead.\n",
      "  network_df = network_df.append(series, ignore_index = True)\n",
      "C:\\Users\\USER\\AppData\\Local\\Temp\\ipykernel_6156\\3567116083.py:14: FutureWarning: The frame.append method is deprecated and will be removed from pandas in a future version. Use pandas.concat instead.\n",
      "  network_df = network_df.append(series, ignore_index = True)\n",
      "C:\\Users\\USER\\AppData\\Local\\Temp\\ipykernel_6156\\3567116083.py:14: FutureWarning: The frame.append method is deprecated and will be removed from pandas in a future version. Use pandas.concat instead.\n",
      "  network_df = network_df.append(series, ignore_index = True)\n",
      "C:\\Users\\USER\\AppData\\Local\\Temp\\ipykernel_6156\\3567116083.py:14: FutureWarning: The frame.append method is deprecated and will be removed from pandas in a future version. Use pandas.concat instead.\n",
      "  network_df = network_df.append(series, ignore_index = True)\n",
      "C:\\Users\\USER\\AppData\\Local\\Temp\\ipykernel_6156\\3567116083.py:14: FutureWarning: The frame.append method is deprecated and will be removed from pandas in a future version. Use pandas.concat instead.\n",
      "  network_df = network_df.append(series, ignore_index = True)\n",
      "C:\\Users\\USER\\AppData\\Local\\Temp\\ipykernel_6156\\3567116083.py:14: FutureWarning: The frame.append method is deprecated and will be removed from pandas in a future version. Use pandas.concat instead.\n",
      "  network_df = network_df.append(series, ignore_index = True)\n",
      "C:\\Users\\USER\\AppData\\Local\\Temp\\ipykernel_6156\\3567116083.py:14: FutureWarning: The frame.append method is deprecated and will be removed from pandas in a future version. Use pandas.concat instead.\n",
      "  network_df = network_df.append(series, ignore_index = True)\n",
      "C:\\Users\\USER\\AppData\\Local\\Temp\\ipykernel_6156\\3567116083.py:14: FutureWarning: The frame.append method is deprecated and will be removed from pandas in a future version. Use pandas.concat instead.\n",
      "  network_df = network_df.append(series, ignore_index = True)\n",
      "C:\\Users\\USER\\AppData\\Local\\Temp\\ipykernel_6156\\3567116083.py:14: FutureWarning: The frame.append method is deprecated and will be removed from pandas in a future version. Use pandas.concat instead.\n",
      "  network_df = network_df.append(series, ignore_index = True)\n",
      "C:\\Users\\USER\\AppData\\Local\\Temp\\ipykernel_6156\\3567116083.py:14: FutureWarning: The frame.append method is deprecated and will be removed from pandas in a future version. Use pandas.concat instead.\n",
      "  network_df = network_df.append(series, ignore_index = True)\n",
      "C:\\Users\\USER\\AppData\\Local\\Temp\\ipykernel_6156\\3567116083.py:14: FutureWarning: The frame.append method is deprecated and will be removed from pandas in a future version. Use pandas.concat instead.\n",
      "  network_df = network_df.append(series, ignore_index = True)\n",
      "C:\\Users\\USER\\AppData\\Local\\Temp\\ipykernel_6156\\3567116083.py:14: FutureWarning: The frame.append method is deprecated and will be removed from pandas in a future version. Use pandas.concat instead.\n",
      "  network_df = network_df.append(series, ignore_index = True)\n",
      "C:\\Users\\USER\\AppData\\Local\\Temp\\ipykernel_6156\\3567116083.py:14: FutureWarning: The frame.append method is deprecated and will be removed from pandas in a future version. Use pandas.concat instead.\n",
      "  network_df = network_df.append(series, ignore_index = True)\n",
      "C:\\Users\\USER\\AppData\\Local\\Temp\\ipykernel_6156\\3567116083.py:14: FutureWarning: The frame.append method is deprecated and will be removed from pandas in a future version. Use pandas.concat instead.\n",
      "  network_df = network_df.append(series, ignore_index = True)\n",
      "C:\\Users\\USER\\AppData\\Local\\Temp\\ipykernel_6156\\3567116083.py:14: FutureWarning: The frame.append method is deprecated and will be removed from pandas in a future version. Use pandas.concat instead.\n",
      "  network_df = network_df.append(series, ignore_index = True)\n",
      "C:\\Users\\USER\\AppData\\Local\\Temp\\ipykernel_6156\\3567116083.py:14: FutureWarning: The frame.append method is deprecated and will be removed from pandas in a future version. Use pandas.concat instead.\n",
      "  network_df = network_df.append(series, ignore_index = True)\n",
      "C:\\Users\\USER\\AppData\\Local\\Temp\\ipykernel_6156\\3567116083.py:14: FutureWarning: The frame.append method is deprecated and will be removed from pandas in a future version. Use pandas.concat instead.\n",
      "  network_df = network_df.append(series, ignore_index = True)\n",
      "C:\\Users\\USER\\AppData\\Local\\Temp\\ipykernel_6156\\3567116083.py:14: FutureWarning: The frame.append method is deprecated and will be removed from pandas in a future version. Use pandas.concat instead.\n",
      "  network_df = network_df.append(series, ignore_index = True)\n",
      "C:\\Users\\USER\\AppData\\Local\\Temp\\ipykernel_6156\\3567116083.py:14: FutureWarning: The frame.append method is deprecated and will be removed from pandas in a future version. Use pandas.concat instead.\n",
      "  network_df = network_df.append(series, ignore_index = True)\n",
      "C:\\Users\\USER\\AppData\\Local\\Temp\\ipykernel_6156\\3567116083.py:14: FutureWarning: The frame.append method is deprecated and will be removed from pandas in a future version. Use pandas.concat instead.\n",
      "  network_df = network_df.append(series, ignore_index = True)\n",
      "C:\\Users\\USER\\AppData\\Local\\Temp\\ipykernel_6156\\3567116083.py:14: FutureWarning: The frame.append method is deprecated and will be removed from pandas in a future version. Use pandas.concat instead.\n",
      "  network_df = network_df.append(series, ignore_index = True)\n",
      "C:\\Users\\USER\\AppData\\Local\\Temp\\ipykernel_6156\\3567116083.py:14: FutureWarning: The frame.append method is deprecated and will be removed from pandas in a future version. Use pandas.concat instead.\n",
      "  network_df = network_df.append(series, ignore_index = True)\n",
      "C:\\Users\\USER\\AppData\\Local\\Temp\\ipykernel_6156\\3567116083.py:14: FutureWarning: The frame.append method is deprecated and will be removed from pandas in a future version. Use pandas.concat instead.\n",
      "  network_df = network_df.append(series, ignore_index = True)\n",
      "C:\\Users\\USER\\AppData\\Local\\Temp\\ipykernel_6156\\3567116083.py:14: FutureWarning: The frame.append method is deprecated and will be removed from pandas in a future version. Use pandas.concat instead.\n",
      "  network_df = network_df.append(series, ignore_index = True)\n",
      "C:\\Users\\USER\\AppData\\Local\\Temp\\ipykernel_6156\\3567116083.py:14: FutureWarning: The frame.append method is deprecated and will be removed from pandas in a future version. Use pandas.concat instead.\n",
      "  network_df = network_df.append(series, ignore_index = True)\n",
      "C:\\Users\\USER\\AppData\\Local\\Temp\\ipykernel_6156\\3567116083.py:14: FutureWarning: The frame.append method is deprecated and will be removed from pandas in a future version. Use pandas.concat instead.\n",
      "  network_df = network_df.append(series, ignore_index = True)\n",
      "C:\\Users\\USER\\AppData\\Local\\Temp\\ipykernel_6156\\3567116083.py:14: FutureWarning: The frame.append method is deprecated and will be removed from pandas in a future version. Use pandas.concat instead.\n",
      "  network_df = network_df.append(series, ignore_index = True)\n",
      "C:\\Users\\USER\\AppData\\Local\\Temp\\ipykernel_6156\\3567116083.py:14: FutureWarning: The frame.append method is deprecated and will be removed from pandas in a future version. Use pandas.concat instead.\n",
      "  network_df = network_df.append(series, ignore_index = True)\n",
      "C:\\Users\\USER\\AppData\\Local\\Temp\\ipykernel_6156\\3567116083.py:14: FutureWarning: The frame.append method is deprecated and will be removed from pandas in a future version. Use pandas.concat instead.\n",
      "  network_df = network_df.append(series, ignore_index = True)\n",
      "C:\\Users\\USER\\AppData\\Local\\Temp\\ipykernel_6156\\3567116083.py:14: FutureWarning: The frame.append method is deprecated and will be removed from pandas in a future version. Use pandas.concat instead.\n",
      "  network_df = network_df.append(series, ignore_index = True)\n",
      "C:\\Users\\USER\\AppData\\Local\\Temp\\ipykernel_6156\\3567116083.py:14: FutureWarning: The frame.append method is deprecated and will be removed from pandas in a future version. Use pandas.concat instead.\n",
      "  network_df = network_df.append(series, ignore_index = True)\n",
      "C:\\Users\\USER\\AppData\\Local\\Temp\\ipykernel_6156\\3567116083.py:14: FutureWarning: The frame.append method is deprecated and will be removed from pandas in a future version. Use pandas.concat instead.\n",
      "  network_df = network_df.append(series, ignore_index = True)\n",
      "C:\\Users\\USER\\AppData\\Local\\Temp\\ipykernel_6156\\3567116083.py:14: FutureWarning: The frame.append method is deprecated and will be removed from pandas in a future version. Use pandas.concat instead.\n",
      "  network_df = network_df.append(series, ignore_index = True)\n",
      "C:\\Users\\USER\\AppData\\Local\\Temp\\ipykernel_6156\\3567116083.py:14: FutureWarning: The frame.append method is deprecated and will be removed from pandas in a future version. Use pandas.concat instead.\n",
      "  network_df = network_df.append(series, ignore_index = True)\n",
      "C:\\Users\\USER\\AppData\\Local\\Temp\\ipykernel_6156\\3567116083.py:14: FutureWarning: The frame.append method is deprecated and will be removed from pandas in a future version. Use pandas.concat instead.\n",
      "  network_df = network_df.append(series, ignore_index = True)\n",
      "C:\\Users\\USER\\AppData\\Local\\Temp\\ipykernel_6156\\3567116083.py:14: FutureWarning: The frame.append method is deprecated and will be removed from pandas in a future version. Use pandas.concat instead.\n",
      "  network_df = network_df.append(series, ignore_index = True)\n",
      "C:\\Users\\USER\\AppData\\Local\\Temp\\ipykernel_6156\\3567116083.py:14: FutureWarning: The frame.append method is deprecated and will be removed from pandas in a future version. Use pandas.concat instead.\n",
      "  network_df = network_df.append(series, ignore_index = True)\n",
      "C:\\Users\\USER\\AppData\\Local\\Temp\\ipykernel_6156\\3567116083.py:14: FutureWarning: The frame.append method is deprecated and will be removed from pandas in a future version. Use pandas.concat instead.\n",
      "  network_df = network_df.append(series, ignore_index = True)\n",
      "C:\\Users\\USER\\AppData\\Local\\Temp\\ipykernel_6156\\3567116083.py:14: FutureWarning: The frame.append method is deprecated and will be removed from pandas in a future version. Use pandas.concat instead.\n",
      "  network_df = network_df.append(series, ignore_index = True)\n",
      "C:\\Users\\USER\\AppData\\Local\\Temp\\ipykernel_6156\\3567116083.py:14: FutureWarning: The frame.append method is deprecated and will be removed from pandas in a future version. Use pandas.concat instead.\n",
      "  network_df = network_df.append(series, ignore_index = True)\n",
      "C:\\Users\\USER\\AppData\\Local\\Temp\\ipykernel_6156\\3567116083.py:14: FutureWarning: The frame.append method is deprecated and will be removed from pandas in a future version. Use pandas.concat instead.\n",
      "  network_df = network_df.append(series, ignore_index = True)\n",
      "C:\\Users\\USER\\AppData\\Local\\Temp\\ipykernel_6156\\3567116083.py:14: FutureWarning: The frame.append method is deprecated and will be removed from pandas in a future version. Use pandas.concat instead.\n",
      "  network_df = network_df.append(series, ignore_index = True)\n",
      "C:\\Users\\USER\\AppData\\Local\\Temp\\ipykernel_6156\\3567116083.py:14: FutureWarning: The frame.append method is deprecated and will be removed from pandas in a future version. Use pandas.concat instead.\n",
      "  network_df = network_df.append(series, ignore_index = True)\n",
      "C:\\Users\\USER\\AppData\\Local\\Temp\\ipykernel_6156\\3567116083.py:14: FutureWarning: The frame.append method is deprecated and will be removed from pandas in a future version. Use pandas.concat instead.\n",
      "  network_df = network_df.append(series, ignore_index = True)\n",
      "C:\\Users\\USER\\AppData\\Local\\Temp\\ipykernel_6156\\3567116083.py:14: FutureWarning: The frame.append method is deprecated and will be removed from pandas in a future version. Use pandas.concat instead.\n",
      "  network_df = network_df.append(series, ignore_index = True)\n",
      "C:\\Users\\USER\\AppData\\Local\\Temp\\ipykernel_6156\\3567116083.py:14: FutureWarning: The frame.append method is deprecated and will be removed from pandas in a future version. Use pandas.concat instead.\n",
      "  network_df = network_df.append(series, ignore_index = True)\n",
      "C:\\Users\\USER\\AppData\\Local\\Temp\\ipykernel_6156\\3567116083.py:14: FutureWarning: The frame.append method is deprecated and will be removed from pandas in a future version. Use pandas.concat instead.\n",
      "  network_df = network_df.append(series, ignore_index = True)\n",
      "C:\\Users\\USER\\AppData\\Local\\Temp\\ipykernel_6156\\3567116083.py:14: FutureWarning: The frame.append method is deprecated and will be removed from pandas in a future version. Use pandas.concat instead.\n",
      "  network_df = network_df.append(series, ignore_index = True)\n",
      "C:\\Users\\USER\\AppData\\Local\\Temp\\ipykernel_6156\\3567116083.py:14: FutureWarning: The frame.append method is deprecated and will be removed from pandas in a future version. Use pandas.concat instead.\n",
      "  network_df = network_df.append(series, ignore_index = True)\n",
      "C:\\Users\\USER\\AppData\\Local\\Temp\\ipykernel_6156\\3567116083.py:14: FutureWarning: The frame.append method is deprecated and will be removed from pandas in a future version. Use pandas.concat instead.\n",
      "  network_df = network_df.append(series, ignore_index = True)\n",
      "C:\\Users\\USER\\AppData\\Local\\Temp\\ipykernel_6156\\3567116083.py:14: FutureWarning: The frame.append method is deprecated and will be removed from pandas in a future version. Use pandas.concat instead.\n",
      "  network_df = network_df.append(series, ignore_index = True)\n",
      "C:\\Users\\USER\\AppData\\Local\\Temp\\ipykernel_6156\\3567116083.py:14: FutureWarning: The frame.append method is deprecated and will be removed from pandas in a future version. Use pandas.concat instead.\n",
      "  network_df = network_df.append(series, ignore_index = True)\n",
      "C:\\Users\\USER\\AppData\\Local\\Temp\\ipykernel_6156\\3567116083.py:14: FutureWarning: The frame.append method is deprecated and will be removed from pandas in a future version. Use pandas.concat instead.\n",
      "  network_df = network_df.append(series, ignore_index = True)\n",
      "C:\\Users\\USER\\AppData\\Local\\Temp\\ipykernel_6156\\3567116083.py:14: FutureWarning: The frame.append method is deprecated and will be removed from pandas in a future version. Use pandas.concat instead.\n",
      "  network_df = network_df.append(series, ignore_index = True)\n",
      "C:\\Users\\USER\\AppData\\Local\\Temp\\ipykernel_6156\\3567116083.py:14: FutureWarning: The frame.append method is deprecated and will be removed from pandas in a future version. Use pandas.concat instead.\n",
      "  network_df = network_df.append(series, ignore_index = True)\n",
      "C:\\Users\\USER\\AppData\\Local\\Temp\\ipykernel_6156\\3567116083.py:14: FutureWarning: The frame.append method is deprecated and will be removed from pandas in a future version. Use pandas.concat instead.\n",
      "  network_df = network_df.append(series, ignore_index = True)\n",
      "C:\\Users\\USER\\AppData\\Local\\Temp\\ipykernel_6156\\3567116083.py:14: FutureWarning: The frame.append method is deprecated and will be removed from pandas in a future version. Use pandas.concat instead.\n",
      "  network_df = network_df.append(series, ignore_index = True)\n",
      "C:\\Users\\USER\\AppData\\Local\\Temp\\ipykernel_6156\\3567116083.py:14: FutureWarning: The frame.append method is deprecated and will be removed from pandas in a future version. Use pandas.concat instead.\n",
      "  network_df = network_df.append(series, ignore_index = True)\n",
      "C:\\Users\\USER\\AppData\\Local\\Temp\\ipykernel_6156\\3567116083.py:14: FutureWarning: The frame.append method is deprecated and will be removed from pandas in a future version. Use pandas.concat instead.\n",
      "  network_df = network_df.append(series, ignore_index = True)\n",
      "C:\\Users\\USER\\AppData\\Local\\Temp\\ipykernel_6156\\3567116083.py:14: FutureWarning: The frame.append method is deprecated and will be removed from pandas in a future version. Use pandas.concat instead.\n",
      "  network_df = network_df.append(series, ignore_index = True)\n",
      "C:\\Users\\USER\\AppData\\Local\\Temp\\ipykernel_6156\\3567116083.py:14: FutureWarning: The frame.append method is deprecated and will be removed from pandas in a future version. Use pandas.concat instead.\n",
      "  network_df = network_df.append(series, ignore_index = True)\n",
      "C:\\Users\\USER\\AppData\\Local\\Temp\\ipykernel_6156\\3567116083.py:14: FutureWarning: The frame.append method is deprecated and will be removed from pandas in a future version. Use pandas.concat instead.\n",
      "  network_df = network_df.append(series, ignore_index = True)\n",
      "C:\\Users\\USER\\AppData\\Local\\Temp\\ipykernel_6156\\3567116083.py:14: FutureWarning: The frame.append method is deprecated and will be removed from pandas in a future version. Use pandas.concat instead.\n",
      "  network_df = network_df.append(series, ignore_index = True)\n",
      "C:\\Users\\USER\\AppData\\Local\\Temp\\ipykernel_6156\\3567116083.py:14: FutureWarning: The frame.append method is deprecated and will be removed from pandas in a future version. Use pandas.concat instead.\n",
      "  network_df = network_df.append(series, ignore_index = True)\n",
      "C:\\Users\\USER\\AppData\\Local\\Temp\\ipykernel_6156\\3567116083.py:14: FutureWarning: The frame.append method is deprecated and will be removed from pandas in a future version. Use pandas.concat instead.\n",
      "  network_df = network_df.append(series, ignore_index = True)\n",
      "C:\\Users\\USER\\AppData\\Local\\Temp\\ipykernel_6156\\3567116083.py:14: FutureWarning: The frame.append method is deprecated and will be removed from pandas in a future version. Use pandas.concat instead.\n",
      "  network_df = network_df.append(series, ignore_index = True)\n",
      "C:\\Users\\USER\\AppData\\Local\\Temp\\ipykernel_6156\\3567116083.py:14: FutureWarning: The frame.append method is deprecated and will be removed from pandas in a future version. Use pandas.concat instead.\n",
      "  network_df = network_df.append(series, ignore_index = True)\n",
      "C:\\Users\\USER\\AppData\\Local\\Temp\\ipykernel_6156\\3567116083.py:14: FutureWarning: The frame.append method is deprecated and will be removed from pandas in a future version. Use pandas.concat instead.\n",
      "  network_df = network_df.append(series, ignore_index = True)\n",
      "C:\\Users\\USER\\AppData\\Local\\Temp\\ipykernel_6156\\3567116083.py:14: FutureWarning: The frame.append method is deprecated and will be removed from pandas in a future version. Use pandas.concat instead.\n",
      "  network_df = network_df.append(series, ignore_index = True)\n",
      "C:\\Users\\USER\\AppData\\Local\\Temp\\ipykernel_6156\\3567116083.py:14: FutureWarning: The frame.append method is deprecated and will be removed from pandas in a future version. Use pandas.concat instead.\n",
      "  network_df = network_df.append(series, ignore_index = True)\n",
      "C:\\Users\\USER\\AppData\\Local\\Temp\\ipykernel_6156\\3567116083.py:14: FutureWarning: The frame.append method is deprecated and will be removed from pandas in a future version. Use pandas.concat instead.\n",
      "  network_df = network_df.append(series, ignore_index = True)\n",
      "C:\\Users\\USER\\AppData\\Local\\Temp\\ipykernel_6156\\3567116083.py:14: FutureWarning: The frame.append method is deprecated and will be removed from pandas in a future version. Use pandas.concat instead.\n",
      "  network_df = network_df.append(series, ignore_index = True)\n",
      "C:\\Users\\USER\\AppData\\Local\\Temp\\ipykernel_6156\\3567116083.py:14: FutureWarning: The frame.append method is deprecated and will be removed from pandas in a future version. Use pandas.concat instead.\n",
      "  network_df = network_df.append(series, ignore_index = True)\n",
      "C:\\Users\\USER\\AppData\\Local\\Temp\\ipykernel_6156\\3567116083.py:14: FutureWarning: The frame.append method is deprecated and will be removed from pandas in a future version. Use pandas.concat instead.\n",
      "  network_df = network_df.append(series, ignore_index = True)\n",
      "C:\\Users\\USER\\AppData\\Local\\Temp\\ipykernel_6156\\3567116083.py:14: FutureWarning: The frame.append method is deprecated and will be removed from pandas in a future version. Use pandas.concat instead.\n",
      "  network_df = network_df.append(series, ignore_index = True)\n",
      "C:\\Users\\USER\\AppData\\Local\\Temp\\ipykernel_6156\\3567116083.py:14: FutureWarning: The frame.append method is deprecated and will be removed from pandas in a future version. Use pandas.concat instead.\n",
      "  network_df = network_df.append(series, ignore_index = True)\n",
      "C:\\Users\\USER\\AppData\\Local\\Temp\\ipykernel_6156\\3567116083.py:14: FutureWarning: The frame.append method is deprecated and will be removed from pandas in a future version. Use pandas.concat instead.\n",
      "  network_df = network_df.append(series, ignore_index = True)\n",
      "C:\\Users\\USER\\AppData\\Local\\Temp\\ipykernel_6156\\3567116083.py:14: FutureWarning: The frame.append method is deprecated and will be removed from pandas in a future version. Use pandas.concat instead.\n",
      "  network_df = network_df.append(series, ignore_index = True)\n",
      "C:\\Users\\USER\\AppData\\Local\\Temp\\ipykernel_6156\\3567116083.py:14: FutureWarning: The frame.append method is deprecated and will be removed from pandas in a future version. Use pandas.concat instead.\n",
      "  network_df = network_df.append(series, ignore_index = True)\n",
      "C:\\Users\\USER\\AppData\\Local\\Temp\\ipykernel_6156\\3567116083.py:14: FutureWarning: The frame.append method is deprecated and will be removed from pandas in a future version. Use pandas.concat instead.\n",
      "  network_df = network_df.append(series, ignore_index = True)\n",
      "C:\\Users\\USER\\AppData\\Local\\Temp\\ipykernel_6156\\3567116083.py:14: FutureWarning: The frame.append method is deprecated and will be removed from pandas in a future version. Use pandas.concat instead.\n",
      "  network_df = network_df.append(series, ignore_index = True)\n",
      "C:\\Users\\USER\\AppData\\Local\\Temp\\ipykernel_6156\\3567116083.py:14: FutureWarning: The frame.append method is deprecated and will be removed from pandas in a future version. Use pandas.concat instead.\n",
      "  network_df = network_df.append(series, ignore_index = True)\n",
      "C:\\Users\\USER\\AppData\\Local\\Temp\\ipykernel_6156\\3567116083.py:14: FutureWarning: The frame.append method is deprecated and will be removed from pandas in a future version. Use pandas.concat instead.\n",
      "  network_df = network_df.append(series, ignore_index = True)\n",
      "C:\\Users\\USER\\AppData\\Local\\Temp\\ipykernel_6156\\3567116083.py:14: FutureWarning: The frame.append method is deprecated and will be removed from pandas in a future version. Use pandas.concat instead.\n",
      "  network_df = network_df.append(series, ignore_index = True)\n",
      "C:\\Users\\USER\\AppData\\Local\\Temp\\ipykernel_6156\\3567116083.py:14: FutureWarning: The frame.append method is deprecated and will be removed from pandas in a future version. Use pandas.concat instead.\n",
      "  network_df = network_df.append(series, ignore_index = True)\n"
     ]
    }
   ],
   "source": [
    "# 결과가 보기 힘드므로 DataFrame 으로 변환\n",
    "# 1개인 삼품은 제거\n",
    "\n",
    "columns = ['source', 'target', 'support']\n",
    "network_df = pd.DataFrame(columns = columns)\n",
    "\n",
    "for result in results:\n",
    "    if len(result.items) == 2:\n",
    "        # 결과의 item 이름을 가져와서 list로 생성\n",
    "        items = [x for x in result.items]\n",
    "        row = [items[0], items[1], result.support]\n",
    "        # 데이터를 Series 로 변환\n",
    "        series = pd.Series(row, index = network_df.columns)\n",
    "        network_df = network_df.append(series, ignore_index = True)\n",
    "\n",
    "#print(network_df.head())"
   ]
  },
  {
   "cell_type": "markdown",
   "id": "310659ff",
   "metadata": {},
   "source": [
    "### 네트워크 시각화"
   ]
  },
  {
   "cell_type": "code",
   "execution_count": 71,
   "id": "7bbcce38",
   "metadata": {},
   "outputs": [],
   "source": [
    "# 하나의 문장으로 만들기\n",
    "tweet_corpus = ''.join(df['ko_text'].tolist())\n",
    "#print(tweet_corpus)"
   ]
  },
  {
   "cell_type": "code",
   "execution_count": 73,
   "id": "f678b06d",
   "metadata": {},
   "outputs": [
    {
     "name": "stdout",
     "output_type": "stream",
     "text": [
      "Counter({'손흥민': 560, '하리보': 245, '축구': 140, '선수': 140, '조현우': 140, '황의조': 140, '금메달': 140, '모델': 105, '한국': 105, '신제품': 105, '밤': 70, '선거운동': 70, '것': 70, '보고': 70, '내': 70, '계정': 70, '지기': 70, '실수': 70, '삭제': 70, '다시': 70, '홍보': 70, '발탁': 70, '기념': 70, '해당': 70, '글': 70, '중': 70, '추첨': 70, '통해': 70, '분': 70, '골드바': 70, '렌': 70, '통': 70, '기간': 70, '출국': 70, '국가대표팀': 70, '아시아': 70, '게임': 70, '입': 70, '모습': 70, '의조': 70, '진짜': 70, '트릴': 35, '리온': 35, '국가대표': 35, '샴푸': 35, '기용': 35, '출처': 35, '경제': 35, '네이버': 35, '뉴스': 35, '애': 35, '뭐': 35, '말씀': 35, '알': 35, '거': 35, '경남': 35, '도민': 35, '일보': 35, '프로축구': 35, '연맹': 35, '경기장': 35, '안': 35, '영국': 35, '관중': 35, '인종차별': 35, '행위': 35, '급': 35, '축구장': 35, '규정': 35, '위반': 35, '이야기': 35, '요': 35, '선택': 35, '토트넘': 35, '골수팬': 35, '렙': 35, '승부사': 35, '제일': 35, '입다': 35, '안녕하십니까': 35, '만': 35, '트위터': 35, '매우': 35, '오늘': 35, '경기도': 35, '관심': 35, '긴급': 35, '속보': 35, '이': 35, '개시': 35, '샤인': 35, '가장': 35, '먼저': 35, '팔로우': 35, '알림': 35, '설정': 35, '해': 35, '두기': 35})\n",
      "Counter({'손흥민': 560, '하리보': 245, '축구': 140, '선수': 140, '조현우': 140, '황의조': 140, '금메달': 140, '모델': 105, '한국': 105, '신제품': 105, '선거운동': 70, '보고': 70, '계정': 70, '지기': 70, '실수': 70, '삭제': 70, '다시': 70, '홍보': 70, '발탁': 70, '기념': 70, '해당': 70, '추첨': 70, '통해': 70, '골드바': 70, '기간': 70, '출국': 70, '국가대표팀': 70, '아시아': 70, '게임': 70, '모습': 70, '의조': 70, '진짜': 70, '트릴': 35, '리온': 35, '국가대표': 35, '샴푸': 35, '기용': 35, '출처': 35, '경제': 35, '네이버': 35, '뉴스': 35, '말씀': 35, '경남': 35, '도민': 35, '일보': 35, '프로축구': 35, '연맹': 35, '경기장': 35, '영국': 35, '관중': 35, '인종차별': 35, '행위': 35, '축구장': 35, '규정': 35, '위반': 35, '이야기': 35, '선택': 35, '토트넘': 35, '골수팬': 35, '승부사': 35, '제일': 35, '입다': 35, '안녕하십니까': 35, '트위터': 35, '매우': 35, '오늘': 35, '경기도': 35, '관심': 35, '긴급': 35, '속보': 35, '개시': 35, '샤인': 35, '가장': 35, '먼저': 35, '팔로우': 35, '알림': 35, '설정': 35, '두기': 35})\n"
     ]
    }
   ],
   "source": [
    "nouns_tagger = Okt()\n",
    "nouns = nouns_tagger.nouns(tweet_corpus)\n",
    "\n",
    "count = Counter(nouns)\n",
    "#print(count)\n",
    "\n",
    "# 글자수가 1글자인 경우를 제거\n",
    "remove_char_counter = Counter({x : count[x] for x in count if len(x) > 1})\n",
    "print(remove_char_counter)\n"
   ]
  },
  {
   "cell_type": "code",
   "execution_count": 75,
   "id": "54f77c68",
   "metadata": {},
   "outputs": [
    {
     "data": {
      "text/html": [
       "<div>\n",
       "<style scoped>\n",
       "    .dataframe tbody tr th:only-of-type {\n",
       "        vertical-align: middle;\n",
       "    }\n",
       "\n",
       "    .dataframe tbody tr th {\n",
       "        vertical-align: top;\n",
       "    }\n",
       "\n",
       "    .dataframe thead th {\n",
       "        text-align: right;\n",
       "    }\n",
       "</style>\n",
       "<table border=\"1\" class=\"dataframe\">\n",
       "  <thead>\n",
       "    <tr style=\"text-align: right;\">\n",
       "      <th></th>\n",
       "      <th>node</th>\n",
       "      <th>nodesize</th>\n",
       "    </tr>\n",
       "  </thead>\n",
       "  <tbody>\n",
       "    <tr>\n",
       "      <th>2</th>\n",
       "      <td>축구</td>\n",
       "      <td>140</td>\n",
       "    </tr>\n",
       "    <tr>\n",
       "      <th>4</th>\n",
       "      <td>손흥민</td>\n",
       "      <td>560</td>\n",
       "    </tr>\n",
       "    <tr>\n",
       "      <th>5</th>\n",
       "      <td>선수</td>\n",
       "      <td>140</td>\n",
       "    </tr>\n",
       "    <tr>\n",
       "      <th>7</th>\n",
       "      <td>모델</td>\n",
       "      <td>105</td>\n",
       "    </tr>\n",
       "    <tr>\n",
       "      <th>10</th>\n",
       "      <td>한국</td>\n",
       "      <td>105</td>\n",
       "    </tr>\n",
       "  </tbody>\n",
       "</table>\n",
       "</div>"
      ],
      "text/plain": [
       "   node  nodesize\n",
       "2    축구       140\n",
       "4   손흥민       560\n",
       "5    선수       140\n",
       "7    모델       105\n",
       "10   한국       105"
      ]
     },
     "execution_count": 75,
     "metadata": {},
     "output_type": "execute_result"
    }
   ],
   "source": [
    "# 등장한 단어를 node, 등장 횟수를 nodesize 로 해서 DataFrame 생성\n",
    "node_df = pd.DataFrame(remove_char_counter.items(),\n",
    "                       columns = ['node', 'nodesize'])\n",
    "# 등장 횟수가 50 이상인 데이터만 가져오기\n",
    "node_df = node_df[node_df['nodesize'] >= 50]\n",
    "node_df.head()"
   ]
  },
  {
   "cell_type": "code",
   "execution_count": 76,
   "id": "98a339a1",
   "metadata": {},
   "outputs": [
    {
     "name": "stdout",
     "output_type": "stream",
     "text": [
      "Requirement already satisfied: networkx in c:\\users\\user\\anaconda3\\lib\\site-packages (2.8.4)\n"
     ]
    }
   ],
   "source": [
    "# 네트워크 시각화 패키지 설치\n",
    "!pip install networkx"
   ]
  },
  {
   "cell_type": "code",
   "execution_count": 83,
   "id": "b1005e0c",
   "metadata": {},
   "outputs": [
    {
     "ename": "TypeError",
     "evalue": "'_AxesStack' object is not callable",
     "output_type": "error",
     "traceback": [
      "\u001b[1;31m---------------------------------------------------------------------------\u001b[0m",
      "\u001b[1;31mTypeError\u001b[0m                                 Traceback (most recent call last)",
      "Cell \u001b[1;32mIn[83], line 20\u001b[0m\n\u001b[0;32m     18\u001b[0m pos \u001b[38;5;241m=\u001b[39m nx\u001b[38;5;241m.\u001b[39mspring_layout(g, k \u001b[38;5;241m=\u001b[39m \u001b[38;5;241m0.6\u001b[39m, iterations \u001b[38;5;241m=\u001b[39m \u001b[38;5;241m50\u001b[39m)\n\u001b[0;32m     19\u001b[0m sizes \u001b[38;5;241m=\u001b[39m [g\u001b[38;5;241m.\u001b[39mnodes[node][\u001b[38;5;124m'\u001b[39m\u001b[38;5;124mnodesize\u001b[39m\u001b[38;5;124m'\u001b[39m]\u001b[38;5;241m*\u001b[39m\u001b[38;5;241m25\u001b[39m \u001b[38;5;28;01mfor\u001b[39;00m node \u001b[38;5;129;01min\u001b[39;00m g]\n\u001b[1;32m---> 20\u001b[0m \u001b[43mnx\u001b[49m\u001b[38;5;241;43m.\u001b[39;49m\u001b[43mdraw\u001b[49m\u001b[43m(\u001b[49m\u001b[43mg\u001b[49m\u001b[43m,\u001b[49m\u001b[43m \u001b[49m\u001b[43mpos\u001b[49m\u001b[43m \u001b[49m\u001b[38;5;241;43m=\u001b[39;49m\u001b[43m \u001b[49m\u001b[43mpos\u001b[49m\u001b[43m,\u001b[49m\u001b[43m \u001b[49m\u001b[43mnode_size\u001b[49m\u001b[43m \u001b[49m\u001b[38;5;241;43m=\u001b[39;49m\u001b[43m \u001b[49m\u001b[43msizes\u001b[49m\u001b[43m)\u001b[49m\n\u001b[0;32m     22\u001b[0m \u001b[38;5;66;03m# 한글이 있는 경우 폰트 설정\u001b[39;00m\n\u001b[0;32m     23\u001b[0m \u001b[38;5;66;03m# Windows 는 Malgun Gothic\u001b[39;00m\n\u001b[0;32m     24\u001b[0m nx\u001b[38;5;241m.\u001b[39mdraw_network_labels(G, pos \u001b[38;5;241m=\u001b[39m pos, font_family \u001b[38;5;241m=\u001b[39m \u001b[38;5;124m'\u001b[39m\u001b[38;5;124mMalgun Gothic\u001b[39m\u001b[38;5;124m'\u001b[39m,\n\u001b[0;32m     25\u001b[0m                       fontsize \u001b[38;5;241m=\u001b[39m \u001b[38;5;241m20\u001b[39m)\n",
      "File \u001b[1;32m~\\anaconda3\\lib\\site-packages\\networkx\\drawing\\nx_pylab.py:113\u001b[0m, in \u001b[0;36mdraw\u001b[1;34m(G, pos, ax, **kwds)\u001b[0m\n\u001b[0;32m    111\u001b[0m cf\u001b[38;5;241m.\u001b[39mset_facecolor(\u001b[38;5;124m\"\u001b[39m\u001b[38;5;124mw\u001b[39m\u001b[38;5;124m\"\u001b[39m)\n\u001b[0;32m    112\u001b[0m \u001b[38;5;28;01mif\u001b[39;00m ax \u001b[38;5;129;01mis\u001b[39;00m \u001b[38;5;28;01mNone\u001b[39;00m:\n\u001b[1;32m--> 113\u001b[0m     \u001b[38;5;28;01mif\u001b[39;00m \u001b[43mcf\u001b[49m\u001b[38;5;241;43m.\u001b[39;49m\u001b[43m_axstack\u001b[49m\u001b[43m(\u001b[49m\u001b[43m)\u001b[49m \u001b[38;5;129;01mis\u001b[39;00m \u001b[38;5;28;01mNone\u001b[39;00m:\n\u001b[0;32m    114\u001b[0m         ax \u001b[38;5;241m=\u001b[39m cf\u001b[38;5;241m.\u001b[39madd_axes((\u001b[38;5;241m0\u001b[39m, \u001b[38;5;241m0\u001b[39m, \u001b[38;5;241m1\u001b[39m, \u001b[38;5;241m1\u001b[39m))\n\u001b[0;32m    115\u001b[0m     \u001b[38;5;28;01melse\u001b[39;00m:\n",
      "\u001b[1;31mTypeError\u001b[0m: '_AxesStack' object is not callable"
     ]
    },
    {
     "data": {
      "text/plain": [
       "<Figure size 800x600 with 0 Axes>"
      ]
     },
     "metadata": {},
     "output_type": "display_data"
    }
   ],
   "source": [
    "import networkx as nx\n",
    "\n",
    "plt.figure(figsize = (8, 6))\n",
    "\n",
    "# 그래프 인스턴스 생성\n",
    "g = nx.Graph()\n",
    "\n",
    "# 데이터를 순회하면서 node 생성\n",
    "for index,row in node_df.iterrows():\n",
    "    g.add_node(row['node'], nodesize = row['nodesize'])\n",
    "    \n",
    "# 노드 사이의 간선 만들기\n",
    "for index, row in network_df.iterrows():\n",
    "    # source 에서 target 방향으로 선을 그림\n",
    "    # support 위치는 선의 두께\n",
    "    g.add_weighted_edges_from([(row['source'], row['target'], row['support'])])\n",
    "    \n",
    "pos = nx.spring_layout(g, k = 0.6, iterations = 50)\n",
    "sizes = [g.nodes[node]['nodesize']*25 for node in g]\n",
    "nx.draw(g, pos = pos, node_size = sizes)\n",
    "\n",
    "# 한글이 있는 경우 폰트 설정\n",
    "# Windows 는 Malgun Gothic\n",
    "nx.draw_network_labels(G, pos = pos, font_family = 'Malgun Gothic',\n",
    "                      fontsize = 20)\n",
    "\n",
    "# 그래프 그리기\n",
    "ax = plt.gca()\n",
    "plt.show()"
   ]
  },
  {
   "cell_type": "code",
   "execution_count": null,
   "id": "ef5b151a",
   "metadata": {},
   "outputs": [],
   "source": []
  },
  {
   "cell_type": "markdown",
   "id": "52c07186",
   "metadata": {},
   "source": [
    "## 컨텐츠 기반의 영화 추천 서비스"
   ]
  },
  {
   "cell_type": "code",
   "execution_count": 2,
   "id": "b757abd0",
   "metadata": {},
   "outputs": [
    {
     "name": "stdout",
     "output_type": "stream",
     "text": [
      "(4803, 20)\n"
     ]
    }
   ],
   "source": [
    "# 데이터 읽어오기\n",
    "movies = pd.read_csv('./data/tmdb_5000_movies.csv')\n",
    "print(movies.shape)\n",
    "# (4803, 20) 4803 개 데이터와 20 개의 feature"
   ]
  },
  {
   "cell_type": "code",
   "execution_count": 3,
   "id": "ec996794",
   "metadata": {},
   "outputs": [
    {
     "name": "stdout",
     "output_type": "stream",
     "text": [
      "<class 'pandas.core.frame.DataFrame'>\n",
      "RangeIndex: 4803 entries, 0 to 4802\n",
      "Data columns (total 20 columns):\n",
      " #   Column                Non-Null Count  Dtype  \n",
      "---  ------                --------------  -----  \n",
      " 0   budget                4803 non-null   int64  \n",
      " 1   genres                4803 non-null   object \n",
      " 2   homepage              1712 non-null   object \n",
      " 3   id                    4803 non-null   int64  \n",
      " 4   keywords              4803 non-null   object \n",
      " 5   original_language     4803 non-null   object \n",
      " 6   original_title        4803 non-null   object \n",
      " 7   overview              4800 non-null   object \n",
      " 8   popularity            4803 non-null   float64\n",
      " 9   production_companies  4803 non-null   object \n",
      " 10  production_countries  4803 non-null   object \n",
      " 11  release_date          4802 non-null   object \n",
      " 12  revenue               4803 non-null   int64  \n",
      " 13  runtime               4801 non-null   float64\n",
      " 14  spoken_languages      4803 non-null   object \n",
      " 15  status                4803 non-null   object \n",
      " 16  tagline               3959 non-null   object \n",
      " 17  title                 4803 non-null   object \n",
      " 18  vote_average          4803 non-null   float64\n",
      " 19  vote_count            4803 non-null   int64  \n",
      "dtypes: float64(3), int64(4), object(13)\n",
      "memory usage: 750.6+ KB\n"
     ]
    }
   ],
   "source": [
    "movies.info()"
   ]
  },
  {
   "cell_type": "code",
   "execution_count": null,
   "id": "3d50f109",
   "metadata": {},
   "outputs": [],
   "source": []
  }
 ],
 "metadata": {
  "kernelspec": {
   "display_name": "Python 3 (ipykernel)",
   "language": "python",
   "name": "python3"
  },
  "language_info": {
   "codemirror_mode": {
    "name": "ipython",
    "version": 3
   },
   "file_extension": ".py",
   "mimetype": "text/x-python",
   "name": "python",
   "nbconvert_exporter": "python",
   "pygments_lexer": "ipython3",
   "version": "3.10.9"
  }
 },
 "nbformat": 4,
 "nbformat_minor": 5
}
